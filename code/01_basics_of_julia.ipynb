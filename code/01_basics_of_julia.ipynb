{
 "cells": [
  {
   "cell_type": "markdown",
   "id": "d4076b78-3a1b-46e6-87ae-e7b7826ba349",
   "metadata": {},
   "source": [
    "# §1 Basics of Julia"
   ]
  },
  {
   "cell_type": "markdown",
   "id": "b619b132-d446-4051-9785-366b21ae8efc",
   "metadata": {},
   "source": [
    "## Basic Literals"
   ]
  },
  {
   "cell_type": "markdown",
   "id": "4134d491-5a0c-407c-9318-e0c87ac9b42e",
   "metadata": {},
   "source": [
    "### Variables and Operations"
   ]
  },
  {
   "cell_type": "code",
   "execution_count": 1,
   "id": "cfd6a3fa-c417-46ec-97db-323814fc42ff",
   "metadata": {
    "tags": []
   },
   "outputs": [
    {
     "data": {
      "text/plain": [
       "\"hoge\""
      ]
     },
     "execution_count": 1,
     "metadata": {},
     "output_type": "execute_result"
    }
   ],
   "source": [
    "x = 3\n",
    "y = 1.2\n",
    "z = \"hoge\""
   ]
  },
  {
   "cell_type": "code",
   "execution_count": 2,
   "id": "5c7da6e4-a63d-42f8-9dbe-6d426c114988",
   "metadata": {
    "tags": []
   },
   "outputs": [
    {
     "data": {
      "text/plain": [
       "Int64"
      ]
     },
     "execution_count": 2,
     "metadata": {},
     "output_type": "execute_result"
    }
   ],
   "source": [
    "typeof(x)"
   ]
  },
  {
   "cell_type": "code",
   "execution_count": 3,
   "id": "6fc99fda-54f0-4202-b197-1c4ae0d7978a",
   "metadata": {
    "tags": []
   },
   "outputs": [
    {
     "data": {
      "text/plain": [
       "Float64"
      ]
     },
     "execution_count": 3,
     "metadata": {},
     "output_type": "execute_result"
    }
   ],
   "source": [
    "typeof(y)"
   ]
  },
  {
   "cell_type": "code",
   "execution_count": 4,
   "id": "87d894d3-c2cb-4afd-9d0e-6de200f2c75c",
   "metadata": {
    "tags": []
   },
   "outputs": [
    {
     "data": {
      "text/plain": [
       "String"
      ]
     },
     "execution_count": 4,
     "metadata": {},
     "output_type": "execute_result"
    }
   ],
   "source": [
    "typeof(z)"
   ]
  },
  {
   "cell_type": "code",
   "execution_count": 5,
   "id": "502b8b54-84bd-44e4-b00e-a61f50c506cb",
   "metadata": {
    "tags": []
   },
   "outputs": [
    {
     "data": {
      "text/plain": [
       "false"
      ]
     },
     "execution_count": 5,
     "metadata": {},
     "output_type": "execute_result"
    }
   ],
   "source": [
    "x + y\n",
    "x - y\n",
    "x * y\n",
    "y / x\n",
    "y ^x\n",
    "y ÷ x #option + /\n",
    "(x + 1) % x\n",
    "x == y\n",
    "x < y\n",
    "x > y\n",
    "x ≤ y #option + ,\n",
    "x ≥ y #option + .\n",
    "!(x == x)"
   ]
  },
  {
   "cell_type": "code",
   "execution_count": 6,
   "id": "bcbf5c12-1cfe-423c-ad41-b54fe3e9a3a6",
   "metadata": {
    "tags": []
   },
   "outputs": [
    {
     "data": {
      "text/plain": [
       "4.0"
      ]
     },
     "execution_count": 6,
     "metadata": {},
     "output_type": "execute_result"
    }
   ],
   "source": [
    "μ = 0.0 #\\mu -> Tab\n",
    "σ = 2.0 #\\sigma -> Tab\n",
    "xᵢ = 0 #x\\_i -> Tab\n",
    "σ² = σ^2 #\\sigma -> Tab \\^2 -> Tab"
   ]
  },
  {
   "cell_type": "code",
   "execution_count": 7,
   "id": "67e50189-d089-4113-a144-30f4581626ff",
   "metadata": {
    "tags": []
   },
   "outputs": [
    {
     "data": {
      "text/plain": [
       "true"
      ]
     },
     "execution_count": 7,
     "metadata": {},
     "output_type": "execute_result"
    }
   ],
   "source": [
    "1 == 1 && 2 == 2"
   ]
  },
  {
   "cell_type": "code",
   "execution_count": 8,
   "id": "e82f5295-2560-4fcb-8f87-3f62f0c028d0",
   "metadata": {
    "tags": []
   },
   "outputs": [
    {
     "data": {
      "text/plain": [
       "true"
      ]
     },
     "execution_count": 8,
     "metadata": {},
     "output_type": "execute_result"
    }
   ],
   "source": [
    "1 == 1 || 1 == 2"
   ]
  },
  {
   "cell_type": "markdown",
   "id": "fb6e401e-8961-4589-b839-7ed962fa8ca7",
   "metadata": {},
   "source": [
    "### Regulatory Literals"
   ]
  },
  {
   "cell_type": "code",
   "execution_count": 9,
   "id": "3aaad4bc-044b-4074-924c-88142d8cdc93",
   "metadata": {
    "tags": []
   },
   "outputs": [
    {
     "name": "stdout",
     "output_type": "stream",
     "text": [
      "x is smaller than y\n"
     ]
    }
   ],
   "source": [
    "x = 1.0\n",
    "y = 2.0\n",
    "if x < y\n",
    "    println(\"x is smaller than y\")\n",
    "elseif x == y\n",
    "    println(\"x is equal to y\")\n",
    "else\n",
    "    println(\"x is larger than y\")\n",
    "end"
   ]
  },
  {
   "cell_type": "markdown",
   "id": "67d77ed7-c280-42bd-8601-c39943157398",
   "metadata": {},
   "source": [
    "- ternary operator"
   ]
  },
  {
   "cell_type": "code",
   "execution_count": 10,
   "id": "32c9fb88-284e-421b-9670-3fd241283a0b",
   "metadata": {
    "tags": []
   },
   "outputs": [
    {
     "name": "stdout",
     "output_type": "stream",
     "text": [
      "T\n"
     ]
    }
   ],
   "source": [
    "x = -3\n",
    "y = x < 0 ? \"T\" : \"F\"\n",
    "println(y)"
   ]
  },
  {
   "cell_type": "markdown",
   "id": "c9e26b31-d74a-455b-93e2-d53fe315f8b2",
   "metadata": {},
   "source": [
    "- short-circuit evaluatio"
   ]
  },
  {
   "cell_type": "code",
   "execution_count": 11,
   "id": "ab60e048-dfcb-497a-9316-8bfa068a42c8",
   "metadata": {
    "tags": []
   },
   "outputs": [
    {
     "name": "stdout",
     "output_type": "stream",
     "text": [
      "a=1, b=0, c=1\n"
     ]
    }
   ],
   "source": [
    "a = 0\n",
    "b = 0\n",
    "c = 0\n",
    "true && (a = 1)\n",
    "true || (b = 1)\n",
    "false || (c = 1)\n",
    "println(\"a=$(a), b=$(b), c=$(c)\")"
   ]
  },
  {
   "cell_type": "code",
   "execution_count": 12,
   "id": "a0c18004-2447-42d9-af8d-3cc65af888df",
   "metadata": {
    "tags": []
   },
   "outputs": [
    {
     "name": "stdout",
     "output_type": "stream",
     "text": [
      "1\n",
      "2\n",
      "3\n",
      "4\n",
      "5\n",
      "6\n",
      "7\n",
      "8\n",
      "9\n",
      "10\n"
     ]
    }
   ],
   "source": [
    "for i in 1:10\n",
    "    println(i)\n",
    "end"
   ]
  },
  {
   "cell_type": "markdown",
   "id": "ac221a10-ccc3-4c3b-b9ea-49be8db3c9a8",
   "metadata": {},
   "source": [
    "### Function"
   ]
  },
  {
   "cell_type": "code",
   "execution_count": 13,
   "id": "e75cc4e0-a3cb-4683-b94c-3bc1d1fbf6b8",
   "metadata": {
    "tags": []
   },
   "outputs": [
    {
     "data": {
      "text/plain": [
       "myinv (generic function with 1 method)"
      ]
     },
     "execution_count": 13,
     "metadata": {},
     "output_type": "execute_result"
    }
   ],
   "source": [
    "myinv(x) = 1 / x"
   ]
  },
  {
   "cell_type": "code",
   "execution_count": 14,
   "id": "797f2f91-30fb-45d8-b3a9-79e88cad83e9",
   "metadata": {
    "tags": []
   },
   "outputs": [
    {
     "data": {
      "text/plain": [
       "99999.99999999999"
      ]
     },
     "execution_count": 14,
     "metadata": {},
     "output_type": "execute_result"
    }
   ],
   "source": [
    "myinv(1e-5)"
   ]
  },
  {
   "cell_type": "code",
   "execution_count": 15,
   "id": "dcbbfab3-fedf-4515-b5a6-22836c5c89d9",
   "metadata": {
    "tags": []
   },
   "outputs": [
    {
     "data": {
      "text/plain": [
       "mypow (generic function with 1 method)"
      ]
     },
     "execution_count": 15,
     "metadata": {},
     "output_type": "execute_result"
    }
   ],
   "source": [
    "function mypow(x)\n",
    "    return 2 ^x\n",
    "end"
   ]
  },
  {
   "cell_type": "code",
   "execution_count": 16,
   "id": "ddeb04e4-1565-40af-ab89-95292235fe6a",
   "metadata": {
    "tags": []
   },
   "outputs": [
    {
     "data": {
      "text/plain": [
       "8.824977827076287"
      ]
     },
     "execution_count": 16,
     "metadata": {},
     "output_type": "execute_result"
    }
   ],
   "source": [
    "mypow(pi)"
   ]
  },
  {
   "cell_type": "code",
   "execution_count": 17,
   "id": "23b1929e-8287-4519-a3e9-0028657be39a",
   "metadata": {
    "tags": []
   },
   "outputs": [
    {
     "data": {
      "text/plain": [
       "mymean (generic function with 1 method)"
      ]
     },
     "execution_count": 17,
     "metadata": {},
     "output_type": "execute_result"
    }
   ],
   "source": [
    "function mymean(x, y)\n",
    "    return (x + y) / 2\n",
    "end"
   ]
  },
  {
   "cell_type": "code",
   "execution_count": 18,
   "id": "b03f37ce-ceaa-4ec2-8328-202d934b082a",
   "metadata": {
    "tags": []
   },
   "outputs": [
    {
     "data": {
      "text/plain": [
       "0.5"
      ]
     },
     "execution_count": 18,
     "metadata": {},
     "output_type": "execute_result"
    }
   ],
   "source": [
    "mymean(2, -1)"
   ]
  },
  {
   "cell_type": "code",
   "execution_count": 19,
   "id": "bb3b7aca-6e06-4bf3-896c-b1684a4390a3",
   "metadata": {
    "tags": []
   },
   "outputs": [
    {
     "data": {
      "text/plain": [
       "mysum (generic function with 1 method)"
      ]
     },
     "execution_count": 19,
     "metadata": {},
     "output_type": "execute_result"
    }
   ],
   "source": [
    "function mysum(x, y)\n",
    "    z = x + y\n",
    "end"
   ]
  },
  {
   "cell_type": "code",
   "execution_count": 20,
   "id": "7287dc1d-2293-4ac1-9fa4-a0d16680a943",
   "metadata": {
    "tags": []
   },
   "outputs": [
    {
     "data": {
      "text/plain": [
       "3"
      ]
     },
     "execution_count": 20,
     "metadata": {},
     "output_type": "execute_result"
    }
   ],
   "source": [
    "mysum(1, 2)"
   ]
  },
  {
   "cell_type": "code",
   "execution_count": 21,
   "id": "556caa2a-c44a-41b0-af65-5eaa1cf27b25",
   "metadata": {
    "tags": []
   },
   "outputs": [
    {
     "data": {
      "text/plain": [
       "hoge (generic function with 1 method)"
      ]
     },
     "execution_count": 21,
     "metadata": {},
     "output_type": "execute_result"
    }
   ],
   "source": [
    "function hoge(x, y, z)\n",
    "    return x, y, z\n",
    "end"
   ]
  },
  {
   "cell_type": "code",
   "execution_count": 22,
   "id": "fb0fb16d-22d1-4af7-9bf9-62af9a465405",
   "metadata": {
    "tags": []
   },
   "outputs": [
    {
     "data": {
      "text/plain": [
       "(3, 2, 1)"
      ]
     },
     "execution_count": 22,
     "metadata": {},
     "output_type": "execute_result"
    }
   ],
   "source": [
    "hoge(3, 2, 1)"
   ]
  },
  {
   "cell_type": "markdown",
   "id": "54d82bc5-7bb3-4084-b137-a1076f19605b",
   "metadata": {},
   "source": [
    "### Array"
   ]
  },
  {
   "cell_type": "code",
   "execution_count": 23,
   "id": "259cc32e-0a68-4262-a255-d1d2afb4623d",
   "metadata": {
    "tags": []
   },
   "outputs": [
    {
     "data": {
      "text/plain": [
       "3-element Vector{Int64}:\n",
       " 1\n",
       " 2\n",
       " 3"
      ]
     },
     "execution_count": 23,
     "metadata": {},
     "output_type": "execute_result"
    }
   ],
   "source": [
    "a = [1, 2, 3]"
   ]
  },
  {
   "cell_type": "code",
   "execution_count": 24,
   "id": "56837fb8-b070-419e-9d34-fe127200a368",
   "metadata": {
    "tags": []
   },
   "outputs": [
    {
     "data": {
      "text/plain": [
       "1×3 Matrix{Int64}:\n",
       " 1  2  3"
      ]
     },
     "execution_count": 24,
     "metadata": {},
     "output_type": "execute_result"
    }
   ],
   "source": [
    "b = [1 2 3]"
   ]
  },
  {
   "cell_type": "code",
   "execution_count": 25,
   "id": "2c2537c2-a4e2-41ab-8b7a-d27d33587475",
   "metadata": {
    "tags": []
   },
   "outputs": [
    {
     "data": {
      "text/plain": [
       "3-element Vector{Float64}:\n",
       " 2.1219957915e-314\n",
       " 2.1219957915e-314\n",
       " 4.2439915824e-314"
      ]
     },
     "execution_count": 25,
     "metadata": {},
     "output_type": "execute_result"
    }
   ],
   "source": [
    "c = Array{Float64}(undef, 3)"
   ]
  },
  {
   "cell_type": "code",
   "execution_count": 26,
   "id": "a48f3c70-ac1a-4715-8625-eaed680febd3",
   "metadata": {
    "tags": []
   },
   "outputs": [
    {
     "data": {
      "text/plain": [
       "3-element Vector{Float64}:\n",
       " 0.0\n",
       " 0.0\n",
       " 0.0"
      ]
     },
     "execution_count": 26,
     "metadata": {},
     "output_type": "execute_result"
    }
   ],
   "source": [
    "d = zeros(3)"
   ]
  },
  {
   "cell_type": "code",
   "execution_count": 27,
   "id": "8aed20c9-5fed-4c2d-97e9-5402c731b1a7",
   "metadata": {
    "tags": []
   },
   "outputs": [
    {
     "data": {
      "text/plain": [
       "3-element Vector{Float64}:\n",
       " 1.0\n",
       " 1.0\n",
       " 1.0"
      ]
     },
     "execution_count": 27,
     "metadata": {},
     "output_type": "execute_result"
    }
   ],
   "source": [
    "e = ones(3)"
   ]
  },
  {
   "cell_type": "markdown",
   "id": "c22655ee-6444-4c2f-8b2d-ad8f279accc3",
   "metadata": {},
   "source": [
    "- Uniform Distribution [0, 1]"
   ]
  },
  {
   "cell_type": "code",
   "execution_count": 28,
   "id": "04b0c740-a6b4-4445-9fce-bfdcf3d3140c",
   "metadata": {
    "tags": []
   },
   "outputs": [
    {
     "data": {
      "text/plain": [
       "3-element Vector{Float64}:\n",
       " 0.6308778526693078\n",
       " 0.23216485362280082\n",
       " 0.4341210181271459"
      ]
     },
     "execution_count": 28,
     "metadata": {},
     "output_type": "execute_result"
    }
   ],
   "source": [
    "f = rand(3)"
   ]
  },
  {
   "cell_type": "markdown",
   "id": "7a83bbb3-3cdb-4330-a53d-b9d6b35c9a5e",
   "metadata": {},
   "source": [
    "- N(0, 1)"
   ]
  },
  {
   "cell_type": "code",
   "execution_count": 29,
   "id": "78314c49-6367-4ad0-a736-ba16a2286a99",
   "metadata": {
    "tags": []
   },
   "outputs": [
    {
     "data": {
      "text/plain": [
       "3-element Vector{Float64}:\n",
       " -0.47367136329007115\n",
       "  0.32706859434336427\n",
       "  0.6892032438063895"
      ]
     },
     "execution_count": 29,
     "metadata": {},
     "output_type": "execute_result"
    }
   ],
   "source": [
    "g = randn(3)"
   ]
  },
  {
   "cell_type": "markdown",
   "id": "dc1dcd0c-2b14-44c6-bf70-5ff866551298",
   "metadata": {},
   "source": [
    "- matrices"
   ]
  },
  {
   "cell_type": "code",
   "execution_count": 30,
   "id": "4aa24386-624a-4282-9d6d-76c8e5cca231",
   "metadata": {
    "tags": []
   },
   "outputs": [
    {
     "data": {
      "text/plain": [
       "2×4 Matrix{Int64}:\n",
       " 1  2  3  4\n",
       " 5  6  7  8"
      ]
     },
     "execution_count": 30,
     "metadata": {},
     "output_type": "execute_result"
    }
   ],
   "source": [
    "A = [1 2 3 4\n",
    "    5 6 7 8]"
   ]
  },
  {
   "cell_type": "code",
   "execution_count": 31,
   "id": "a6d28392-1d49-4361-9fd4-1dc46c993af2",
   "metadata": {
    "tags": []
   },
   "outputs": [
    {
     "data": {
      "text/plain": [
       "2×4 Matrix{Float64}:\n",
       " 1.0  1.0  1.0  1.0\n",
       " 1.0  1.0  1.0  1.0"
      ]
     },
     "execution_count": 31,
     "metadata": {},
     "output_type": "execute_result"
    }
   ],
   "source": [
    "ones(2, 4)"
   ]
  },
  {
   "cell_type": "code",
   "execution_count": 32,
   "id": "ef846caf-3042-45a7-b7b4-2da5cc1bf18b",
   "metadata": {
    "tags": []
   },
   "outputs": [
    {
     "data": {
      "text/plain": [
       "(2, 4)"
      ]
     },
     "execution_count": 32,
     "metadata": {},
     "output_type": "execute_result"
    }
   ],
   "source": [
    "size(A)"
   ]
  },
  {
   "cell_type": "code",
   "execution_count": 33,
   "id": "cc6b96cf-68e0-431b-acb3-9584bd09ad09",
   "metadata": {
    "tags": []
   },
   "outputs": [
    {
     "data": {
      "text/plain": [
       "8"
      ]
     },
     "execution_count": 33,
     "metadata": {},
     "output_type": "execute_result"
    }
   ],
   "source": [
    "length(A)"
   ]
  },
  {
   "cell_type": "code",
   "execution_count": 34,
   "id": "a40a4e85-2ce8-49fe-b455-39a100b89b87",
   "metadata": {
    "tags": []
   },
   "outputs": [
    {
     "data": {
      "text/plain": [
       "4-element Vector{Int64}:\n",
       " 5\n",
       " 6\n",
       " 7\n",
       " 8"
      ]
     },
     "execution_count": 34,
     "metadata": {},
     "output_type": "execute_result"
    }
   ],
   "source": [
    "A[2, :]"
   ]
  },
  {
   "cell_type": "code",
   "execution_count": 35,
   "id": "4798ccff-5a68-4e02-a8d0-e0942a1fd951",
   "metadata": {
    "tags": []
   },
   "outputs": [
    {
     "data": {
      "text/plain": [
       "5-element Vector{Int64}:\n",
       "  2\n",
       "  4\n",
       "  6\n",
       "  8\n",
       " 10"
      ]
     },
     "execution_count": 35,
     "metadata": {},
     "output_type": "execute_result"
    }
   ],
   "source": [
    "[2 * i for i in 1:5]"
   ]
  },
  {
   "cell_type": "code",
   "execution_count": 36,
   "id": "de03b9a4-5249-46c1-aa3e-4a8cb24e2a4f",
   "metadata": {
    "tags": []
   },
   "outputs": [
    {
     "data": {
      "text/plain": [
       "5×3 Matrix{Tuple{Int64, Int64}}:\n",
       " (1, 1)  (1, 2)  (1, 3)\n",
       " (2, 1)  (2, 2)  (2, 3)\n",
       " (3, 1)  (3, 2)  (3, 3)\n",
       " (4, 1)  (4, 2)  (4, 3)\n",
       " (5, 1)  (5, 2)  (5, 3)"
      ]
     },
     "execution_count": 36,
     "metadata": {},
     "output_type": "execute_result"
    }
   ],
   "source": [
    "[(i, j) for i in 1:5, j in 1:3]"
   ]
  },
  {
   "cell_type": "markdown",
   "id": "5b850138-771f-4f9f-9e7d-04a7f39b618a",
   "metadata": {},
   "source": [
    "- Tuple"
   ]
  },
  {
   "cell_type": "code",
   "execution_count": 37,
   "id": "b6856331-52be-4113-82d4-e45a33239c05",
   "metadata": {
    "tags": []
   },
   "outputs": [
    {
     "data": {
      "text/plain": [
       "6"
      ]
     },
     "execution_count": 37,
     "metadata": {},
     "output_type": "execute_result"
    }
   ],
   "source": [
    "params = (1, 2, 3)\n",
    "fₐ(a, b, c) = a + b + c\n",
    "fₐ(params...) "
   ]
  },
  {
   "cell_type": "markdown",
   "id": "bb6bc43a-afda-41d6-bffc-e61dfccf7fe7",
   "metadata": {},
   "source": [
    "### Broadcasting"
   ]
  },
  {
   "cell_type": "code",
   "execution_count": 38,
   "id": "54c53347-17f5-46bd-ac70-55846d88df1e",
   "metadata": {
    "tags": []
   },
   "outputs": [
    {
     "ename": "LoadError",
     "evalue": "MethodError: no method matching +(::Vector{Int64}, ::Int64)\nFor element-wise addition, use broadcasting with dot syntax: array .+ scalar\n\u001b[0mClosest candidates are:\n\u001b[0m  +(::Any, ::Any, \u001b[91m::Any\u001b[39m, \u001b[91m::Any...\u001b[39m) at operators.jl:591\n\u001b[0m  +(\u001b[91m::T\u001b[39m, ::T) where T<:Union{Int128, Int16, Int32, Int64, Int8, UInt128, UInt16, UInt32, UInt64, UInt8} at int.jl:87\n\u001b[0m  +(\u001b[91m::LinearAlgebra.UniformScaling\u001b[39m, ::Number) at /opt/julia-1.8.5/share/julia/stdlib/v1.8/LinearAlgebra/src/uniformscaling.jl:144\n\u001b[0m  ...",
     "output_type": "error",
     "traceback": [
      "MethodError: no method matching +(::Vector{Int64}, ::Int64)\nFor element-wise addition, use broadcasting with dot syntax: array .+ scalar\n\u001b[0mClosest candidates are:\n\u001b[0m  +(::Any, ::Any, \u001b[91m::Any\u001b[39m, \u001b[91m::Any...\u001b[39m) at operators.jl:591\n\u001b[0m  +(\u001b[91m::T\u001b[39m, ::T) where T<:Union{Int128, Int16, Int32, Int64, Int8, UInt128, UInt16, UInt32, UInt64, UInt8} at int.jl:87\n\u001b[0m  +(\u001b[91m::LinearAlgebra.UniformScaling\u001b[39m, ::Number) at /opt/julia-1.8.5/share/julia/stdlib/v1.8/LinearAlgebra/src/uniformscaling.jl:144\n\u001b[0m  ...",
      "",
      "Stacktrace:",
      " [1] top-level scope",
      "   @ In[38]:2"
     ]
    }
   ],
   "source": [
    "a = [1, 2, 3]\n",
    "a + 1"
   ]
  },
  {
   "cell_type": "code",
   "execution_count": 39,
   "id": "de19d6f8-846c-45b8-b6e1-705b81b9e2f7",
   "metadata": {
    "tags": []
   },
   "outputs": [
    {
     "data": {
      "text/plain": [
       "3-element Vector{Int64}:\n",
       " 2\n",
       " 3\n",
       " 4"
      ]
     },
     "execution_count": 39,
     "metadata": {},
     "output_type": "execute_result"
    }
   ],
   "source": [
    "a .+ 1"
   ]
  },
  {
   "cell_type": "code",
   "execution_count": 40,
   "id": "40550a79-2e19-40c3-9803-ee36a6d0b1ef",
   "metadata": {
    "tags": []
   },
   "outputs": [
    {
     "data": {
      "text/plain": [
       "3-element Vector{Int64}:\n",
       " 2\n",
       " 3\n",
       " 4"
      ]
     },
     "execution_count": 40,
     "metadata": {},
     "output_type": "execute_result"
    }
   ],
   "source": [
    "function add_one(x)\n",
    "    return x + 1\n",
    "end\n",
    "add_one.([1, 2, 3])"
   ]
  },
  {
   "cell_type": "markdown",
   "id": "685586ca-589b-4663-ab9d-acaba7cf4225",
   "metadata": {},
   "source": [
    "### Anonymous Function"
   ]
  },
  {
   "cell_type": "code",
   "execution_count": 41,
   "id": "2b7e5611-385a-4665-b7d2-3b282e950df3",
   "metadata": {
    "tags": []
   },
   "outputs": [
    {
     "data": {
      "text/plain": [
       "#5 (generic function with 1 method)"
      ]
     },
     "execution_count": 41,
     "metadata": {},
     "output_type": "execute_result"
    }
   ],
   "source": [
    "x -> x + 1"
   ]
  },
  {
   "cell_type": "code",
   "execution_count": 42,
   "id": "f52e00de-b2f4-408c-9271-f9561fdd6049",
   "metadata": {
    "tags": []
   },
   "outputs": [
    {
     "data": {
      "text/plain": [
       "3-element Vector{Int64}:\n",
       " 2\n",
       " 3\n",
       " 4"
      ]
     },
     "execution_count": 42,
     "metadata": {},
     "output_type": "execute_result"
    }
   ],
   "source": [
    "map(x -> x + 1, [1, 2, 3])"
   ]
  },
  {
   "cell_type": "markdown",
   "id": "d972bee8-f34c-46b5-952c-9c7baf75c5ac",
   "metadata": {},
   "source": [
    "### Macro"
   ]
  },
  {
   "cell_type": "code",
   "execution_count": 43,
   "id": "7226f431-36c4-4a7f-9917-630626c47bdb",
   "metadata": {
    "tags": []
   },
   "outputs": [
    {
     "name": "stdout",
     "output_type": "stream",
     "text": [
      "  0.009687 seconds (201.39 k allocations: 4.962 MiB, 43.27% compilation time)\n"
     ]
    },
    {
     "data": {
      "text/plain": [
       "-530.5209578190074"
      ]
     },
     "execution_count": 43,
     "metadata": {},
     "output_type": "execute_result"
    }
   ],
   "source": [
    "function test(maxiter)\n",
    "    a = []\n",
    "    for i in 1:maxiter\n",
    "        push!(a, randn())\n",
    "    end\n",
    "    sum(a)\n",
    "end\n",
    "@time test(100000)"
   ]
  },
  {
   "cell_type": "markdown",
   "id": "f287b809-4043-444e-bd81-e8a903fa7cdc",
   "metadata": {},
   "source": [
    "## Packages"
   ]
  },
  {
   "cell_type": "markdown",
   "id": "66390a8c-e5b3-4fae-84fd-7c97b5dd7ab2",
   "metadata": {},
   "source": [
    "### Download"
   ]
  },
  {
   "cell_type": "code",
   "execution_count": 44,
   "id": "1d5032ed-15e8-4332-8558-66e681142438",
   "metadata": {
    "tags": []
   },
   "outputs": [
    {
     "ename": "LoadError",
     "evalue": "UndefVarError: mean not defined",
     "output_type": "error",
     "traceback": [
      "UndefVarError: mean not defined",
      "",
      "Stacktrace:",
      " [1] top-level scope",
      "   @ In[44]:1"
     ]
    }
   ],
   "source": [
    "mean([1, 2, 3, 4, 5])"
   ]
  },
  {
   "cell_type": "code",
   "execution_count": 45,
   "id": "791a7fc5-602a-48e2-a252-4ef9be6dda94",
   "metadata": {
    "tags": []
   },
   "outputs": [
    {
     "name": "stderr",
     "output_type": "stream",
     "text": [
      "\u001b[32m\u001b[1m    Updating\u001b[22m\u001b[39m registry at `/opt/julia/registries/General.toml`\n",
      "\u001b[32m\u001b[1m   Resolving\u001b[22m\u001b[39m package versions...\n",
      "\u001b[32m\u001b[1m    Updating\u001b[22m\u001b[39m `/opt/julia/environments/v1.8/Project.toml`\n",
      " \u001b[90m [10745b16] \u001b[39m\u001b[92m+ Statistics\u001b[39m\n",
      "\u001b[32m\u001b[1m  No Changes\u001b[22m\u001b[39m to `/opt/julia/environments/v1.8/Manifest.toml`\n"
     ]
    }
   ],
   "source": [
    "using Pkg\n",
    "Pkg.add(\"Statistics\")"
   ]
  },
  {
   "cell_type": "markdown",
   "id": "23da6cdf-bb7e-45bc-95f9-50a8b01da01a",
   "metadata": {},
   "source": [
    "### Reading Packages"
   ]
  },
  {
   "cell_type": "code",
   "execution_count": 46,
   "id": "d99c5672-e75e-4991-93ba-7fe3c6d8ffd0",
   "metadata": {
    "tags": []
   },
   "outputs": [
    {
     "data": {
      "text/plain": [
       "3.0"
      ]
     },
     "execution_count": 46,
     "metadata": {},
     "output_type": "execute_result"
    }
   ],
   "source": [
    "using Statistics\n",
    "mean([1, 2, 3, 4, 5])"
   ]
  },
  {
   "cell_type": "markdown",
   "id": "4820c7ea-bde8-43fe-9da2-c6e4c36078e8",
   "metadata": {},
   "source": [
    "## Plotting"
   ]
  },
  {
   "cell_type": "code",
   "execution_count": 47,
   "id": "8bc85c44-1279-486e-9c08-c4ca80335ec9",
   "metadata": {
    "tags": []
   },
   "outputs": [],
   "source": [
    "using PyPlot"
   ]
  },
  {
   "cell_type": "code",
   "execution_count": 48,
   "id": "f399fb3e-60cf-42be-b686-78528d9faa58",
   "metadata": {
    "tags": []
   },
   "outputs": [
    {
     "data": {
      "image/png": "[encoded data removed]",
      "text/plain": [
       "Figure(PyObject <Figure size 640x480 with 1 Axes>)"
      ]
     },
     "metadata": {},
     "output_type": "display_data"
    },
    {
     "data": {
      "text/plain": [
       "PyObject Text(0.5, 1.0, 'my plot')"
      ]
     },
     "execution_count": 48,
     "metadata": {},
     "output_type": "execute_result"
    }
   ],
   "source": [
    "y1 = [1, 7, 11, 13, 15, 16]\n",
    "y2 = [15, 3, 13, 2, 7, 1]\n",
    "\n",
    "fig, ax = subplots()\n",
    "\n",
    "ax.plot(y1)\n",
    "ax.plot(y2)\n",
    "\n",
    "ax.set_xlabel(\"index\")\n",
    "ax.set_ylabel(\"values\")\n",
    "ax.set_title(\"my plot\")"
   ]
  },
  {
   "cell_type": "code",
   "execution_count": 49,
   "id": "036bca3f-5ddf-424a-b4ac-3c5027bb0860",
   "metadata": {
    "tags": []
   },
   "outputs": [
    {
     "data": {
      "image/png": "[encoded data removed]",
      "text/plain": [
       "Figure(PyObject <Figure size 800x400 with 2 Axes>)"
      ]
     },
     "metadata": {},
     "output_type": "display_data"
    },
    {
     "data": {
      "text/plain": [
       "1-element Vector{PyCall.PyObject}:\n",
       " PyObject <matplotlib.lines.Line2D object at 0x7f17587dfa00>"
      ]
     },
     "execution_count": 49,
     "metadata": {},
     "output_type": "execute_result"
    }
   ],
   "source": [
    "fig, ax = subplots(1, 2, figsize=(8, 4))\n",
    "ax[1].plot(y1)\n",
    "ax[2].plot(y2)"
   ]
  },
  {
   "cell_type": "code",
   "execution_count": 52,
   "id": "2aa7abe7-53bb-4668-b67a-7b932ae0fc73",
   "metadata": {
    "tags": []
   },
   "outputs": [
    {
     "data": {
      "image/png": "[encoded data removed]",
      "text/plain": [
       "Figure(PyObject <Figure size 300x300 with 1 Axes>)"
      ]
     },
     "metadata": {},
     "output_type": "display_data"
    },
    {
     "data": {
      "text/plain": [
       "3-element Vector{PyCall.PyObject}:\n",
       " PyObject Text(0.5, 1.0, '$y=x^2$')\n",
       " PyObject Text(0.5, 23.999999999999993, 'x')\n",
       " PyObject Text(24.0, 0.5, 'y')"
      ]
     },
     "execution_count": 52,
     "metadata": {},
     "output_type": "execute_result"
    }
   ],
   "source": [
    "using LaTeXStrings\n",
    "\n",
    "fₓ(x) = x ^2\n",
    "xs = range(-3, 3, length=100)\n",
    "\n",
    "fig, ax = subplots(figsize=(3, 3))\n",
    "ax.plot(xs, fₓ.(xs), \"-\")\n",
    "ax.set(xlabel=\"x\", ylabel=\"y\", title=L\"y=x^2\")"
   ]
  },
  {
   "cell_type": "code",
   "execution_count": 53,
   "id": "6138d552-6bfa-4912-8e12-ff1c650ff83c",
   "metadata": {
    "tags": []
   },
   "outputs": [
    {
     "data": {
      "image/png": "[encoded data removed]",
      "text/plain": [
       "Figure(PyObject <Figure size 600x300 with 1 Axes>)"
      ]
     },
     "metadata": {},
     "output_type": "display_data"
    }
   ],
   "source": [
    "r = 1\n",
    "fx(θ) = r * (θ - sin(θ))\n",
    "fy(θ) = r * (1 - cos(θ))\n",
    "θs = range(-3pi, 3pi, length=100)\n",
    "\n",
    "fig, ax = subplots(figsize=(6, 3))\n",
    "ax.plot(fx.(θs), fy.(θs))\n",
    "ax.set(xlabel=\"θ\", ylabel=\"y\", title=\"cycloid\");"
   ]
  },
  {
   "cell_type": "code",
   "execution_count": 54,
   "id": "cf4a2e8b-c5c1-4b2e-a171-7e6a2af7b671",
   "metadata": {
    "tags": []
   },
   "outputs": [
    {
     "data": {
      "image/png": "[encoded data removed]",
      "text/plain": [
       "Figure(PyObject <Figure size 600x300 with 1 Axes>)"
      ]
     },
     "metadata": {},
     "output_type": "display_data"
    }
   ],
   "source": [
    "sig(x) = 1 / (1 + exp(-x))\n",
    "xs = range(-5, 5, length=100)\n",
    "\n",
    "fig, ax = subplots(figsize=(6, 3))\n",
    "ax.plot(xs, sig.(xs))\n",
    "ax.set(xlabel=\"x\", ylabel=\"y\", title=\"sigmoid\");"
   ]
  },
  {
   "cell_type": "markdown",
   "id": "a98d4c3a-60f2-4238-a798-66a465da86ee",
   "metadata": {},
   "source": [
    "- Scatter plot"
   ]
  },
  {
   "cell_type": "code",
   "execution_count": 55,
   "id": "5f9091bc-75bf-42e1-8fcd-54abaf4b1880",
   "metadata": {
    "tags": []
   },
   "outputs": [
    {
     "data": {
      "image/png": "[encoded data removed]",
      "text/plain": [
       "Figure(PyObject <Figure size 300x300 with 1 Axes>)"
      ]
     },
     "metadata": {},
     "output_type": "display_data"
    }
   ],
   "source": [
    "x = randn(1000)\n",
    "y = randn(1000)\n",
    "\n",
    "fig, ax = subplots(figsize=(3, 3))\n",
    "ax.scatter(x, y)\n",
    "ax.set(xlabel=\"x\", ylabel=\"y\", title=\"scatter\");"
   ]
  },
  {
   "cell_type": "code",
   "execution_count": 56,
   "id": "fa950497-bbe7-4e07-9205-08e471747835",
   "metadata": {
    "tags": []
   },
   "outputs": [
    {
     "data": {
      "image/png": "[encoded data removed]",
      "text/plain": [
       "Figure(PyObject <Figure size 700x300 with 2 Axes>)"
      ]
     },
     "metadata": {},
     "output_type": "display_data"
    }
   ],
   "source": [
    "fig, ax = subplots(1, 2, figsize=(7, 3))\n",
    "ax[1].hist(x)\n",
    "ax[2].hist(x, bins=100);"
   ]
  },
  {
   "cell_type": "markdown",
   "id": "7f6d91c0-77a9-48d8-b265-851dac511f56",
   "metadata": {},
   "source": [
    "- Contour map"
   ]
  },
  {
   "cell_type": "code",
   "execution_count": 57,
   "id": "bd141f09-f6df-49c8-9d6e-67f90a37b4bd",
   "metadata": {
    "tags": []
   },
   "outputs": [
    {
     "data": {
      "image/png": "[encoded data removed]",
      "text/plain": [
       "Figure(PyObject <Figure size 800x400 with 3 Axes>)"
      ]
     },
     "metadata": {},
     "output_type": "display_data"
    }
   ],
   "source": [
    "fz(x, y) = exp(-(2x ^2 + y ^2 + x * y))\n",
    "\n",
    "xs = range(-1, 1, length=100)\n",
    "ys = range(-2, 2, length=100)\n",
    "\n",
    "fig, ax = subplots(1, 2, figsize=(8, 4))\n",
    "\n",
    "cs1 = ax[1].contour(xs, ys, fz.(xs', ys))\n",
    "ax[1].clabel(cs1, inline=true)\n",
    "\n",
    "cs2 = ax[2].contourf(xs, ys, fz.(xs', ys))\n",
    "fig.colorbar(cs2)\n",
    "\n",
    "tight_layout()"
   ]
  }
 ],
 "metadata": {
  "kernelspec": {
   "display_name": "Julia 1.8.5",
   "language": "julia",
   "name": "julia-1.8"
  },
  "language_info": {
   "file_extension": ".jl",
   "mimetype": "application/julia",
   "name": "julia",
   "version": "1.8.5"
  }
 },
 "nbformat": 4,
 "nbformat_minor": 5
}
